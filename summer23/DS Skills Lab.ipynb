{
 "cells": [
  {
   "attachments": {},
   "cell_type": "markdown",
   "metadata": {},
   "source": [
    "# Data Skills Lab"
   ]
  },
  {
   "attachments": {},
   "cell_type": "markdown",
   "metadata": {},
   "source": [
    "Materials:\n",
    "\n",
    "- Download the January 2023 Yellow Taxi Data PARQUET file https://www.nyc.gov/site/tlc/about/tlc-trip-record-data.page\n",
    "- Download the Taxi Zone Lookup table CSV file on the same page\n",
    "- Read the Yellow Taxi data dictionary https://www.nyc.gov/assets/tlc/downloads/pdf/data_dictionary_trip_records_yellow.pdf\n",
    "\n",
    "*Assignment:*\n",
    "\n",
    "Use pandas to read the 2 data files into your Python notebook. Answer the following questions and upload your results here:\n",
    "\n",
    "Tips: there are 3 airports, JFK, LaGuardia, and Newark (EWR)\n",
    "\n",
    "1. Answer the following questions:\n",
    "\n",
    "- How many pickups happened at each airport?\n",
    "- How many dropoffs happened at each airport?\n",
    "- What is the total amount of airport fees collected at each NYC airport? (JFK and LaGuardia)\n",
    "- What borough destination had the most tips?\n",
    "- What were the top 10 pickup locations by number of passengers?\n",
    "\n",
    "2. Create a data visualization of your choice"
   ]
  },
  {
   "cell_type": "code",
   "execution_count": 190,
   "metadata": {},
   "outputs": [],
   "source": [
    "import pandas as pd\n",
    "import seaborn as sns"
   ]
  },
  {
   "cell_type": "code",
   "execution_count": 194,
   "metadata": {},
   "outputs": [],
   "source": [
    "# taxi_link = \"https://d37ci6vzurychx.cloudfront.net/trip-data/yellow_tripdata_2023-01.parquet\"\n",
    "\n",
    "trips = pd.read_parquet(\"/Users/sam/Documents/projects/ds course/yellow_tripdata_2023-01.parquet\")\n",
    "taxi_zones = pd.read_csv(\"/Users/sam/Documents/projects/ds course/taxi_zone_lookup.csv\")"
   ]
  },
  {
   "cell_type": "code",
   "execution_count": 195,
   "metadata": {},
   "outputs": [
    {
     "data": {
      "text/html": [
       "<div>\n",
       "<style scoped>\n",
       "    .dataframe tbody tr th:only-of-type {\n",
       "        vertical-align: middle;\n",
       "    }\n",
       "\n",
       "    .dataframe tbody tr th {\n",
       "        vertical-align: top;\n",
       "    }\n",
       "\n",
       "    .dataframe thead th {\n",
       "        text-align: right;\n",
       "    }\n",
       "</style>\n",
       "<table border=\"1\" class=\"dataframe\">\n",
       "  <thead>\n",
       "    <tr style=\"text-align: right;\">\n",
       "      <th></th>\n",
       "      <th>VendorID</th>\n",
       "      <th>tpep_pickup_datetime</th>\n",
       "      <th>tpep_dropoff_datetime</th>\n",
       "      <th>passenger_count</th>\n",
       "      <th>trip_distance</th>\n",
       "      <th>RatecodeID</th>\n",
       "      <th>store_and_fwd_flag</th>\n",
       "      <th>PULocationID</th>\n",
       "      <th>DOLocationID</th>\n",
       "      <th>payment_type</th>\n",
       "      <th>fare_amount</th>\n",
       "      <th>extra</th>\n",
       "      <th>mta_tax</th>\n",
       "      <th>tip_amount</th>\n",
       "      <th>tolls_amount</th>\n",
       "      <th>improvement_surcharge</th>\n",
       "      <th>total_amount</th>\n",
       "      <th>congestion_surcharge</th>\n",
       "      <th>airport_fee</th>\n",
       "    </tr>\n",
       "  </thead>\n",
       "  <tbody>\n",
       "    <tr>\n",
       "      <th>0</th>\n",
       "      <td>2</td>\n",
       "      <td>2023-01-01 00:32:10</td>\n",
       "      <td>2023-01-01 00:40:36</td>\n",
       "      <td>1.0</td>\n",
       "      <td>0.97</td>\n",
       "      <td>1.0</td>\n",
       "      <td>N</td>\n",
       "      <td>161</td>\n",
       "      <td>141</td>\n",
       "      <td>2</td>\n",
       "      <td>9.3</td>\n",
       "      <td>1.00</td>\n",
       "      <td>0.5</td>\n",
       "      <td>0.00</td>\n",
       "      <td>0.0</td>\n",
       "      <td>1.0</td>\n",
       "      <td>14.30</td>\n",
       "      <td>2.5</td>\n",
       "      <td>0.00</td>\n",
       "    </tr>\n",
       "    <tr>\n",
       "      <th>1</th>\n",
       "      <td>2</td>\n",
       "      <td>2023-01-01 00:55:08</td>\n",
       "      <td>2023-01-01 01:01:27</td>\n",
       "      <td>1.0</td>\n",
       "      <td>1.10</td>\n",
       "      <td>1.0</td>\n",
       "      <td>N</td>\n",
       "      <td>43</td>\n",
       "      <td>237</td>\n",
       "      <td>1</td>\n",
       "      <td>7.9</td>\n",
       "      <td>1.00</td>\n",
       "      <td>0.5</td>\n",
       "      <td>4.00</td>\n",
       "      <td>0.0</td>\n",
       "      <td>1.0</td>\n",
       "      <td>16.90</td>\n",
       "      <td>2.5</td>\n",
       "      <td>0.00</td>\n",
       "    </tr>\n",
       "    <tr>\n",
       "      <th>2</th>\n",
       "      <td>2</td>\n",
       "      <td>2023-01-01 00:25:04</td>\n",
       "      <td>2023-01-01 00:37:49</td>\n",
       "      <td>1.0</td>\n",
       "      <td>2.51</td>\n",
       "      <td>1.0</td>\n",
       "      <td>N</td>\n",
       "      <td>48</td>\n",
       "      <td>238</td>\n",
       "      <td>1</td>\n",
       "      <td>14.9</td>\n",
       "      <td>1.00</td>\n",
       "      <td>0.5</td>\n",
       "      <td>15.00</td>\n",
       "      <td>0.0</td>\n",
       "      <td>1.0</td>\n",
       "      <td>34.90</td>\n",
       "      <td>2.5</td>\n",
       "      <td>0.00</td>\n",
       "    </tr>\n",
       "    <tr>\n",
       "      <th>3</th>\n",
       "      <td>1</td>\n",
       "      <td>2023-01-01 00:03:48</td>\n",
       "      <td>2023-01-01 00:13:25</td>\n",
       "      <td>0.0</td>\n",
       "      <td>1.90</td>\n",
       "      <td>1.0</td>\n",
       "      <td>N</td>\n",
       "      <td>138</td>\n",
       "      <td>7</td>\n",
       "      <td>1</td>\n",
       "      <td>12.1</td>\n",
       "      <td>7.25</td>\n",
       "      <td>0.5</td>\n",
       "      <td>0.00</td>\n",
       "      <td>0.0</td>\n",
       "      <td>1.0</td>\n",
       "      <td>20.85</td>\n",
       "      <td>0.0</td>\n",
       "      <td>1.25</td>\n",
       "    </tr>\n",
       "    <tr>\n",
       "      <th>4</th>\n",
       "      <td>2</td>\n",
       "      <td>2023-01-01 00:10:29</td>\n",
       "      <td>2023-01-01 00:21:19</td>\n",
       "      <td>1.0</td>\n",
       "      <td>1.43</td>\n",
       "      <td>1.0</td>\n",
       "      <td>N</td>\n",
       "      <td>107</td>\n",
       "      <td>79</td>\n",
       "      <td>1</td>\n",
       "      <td>11.4</td>\n",
       "      <td>1.00</td>\n",
       "      <td>0.5</td>\n",
       "      <td>3.28</td>\n",
       "      <td>0.0</td>\n",
       "      <td>1.0</td>\n",
       "      <td>19.68</td>\n",
       "      <td>2.5</td>\n",
       "      <td>0.00</td>\n",
       "    </tr>\n",
       "  </tbody>\n",
       "</table>\n",
       "</div>"
      ],
      "text/plain": [
       "   VendorID tpep_pickup_datetime tpep_dropoff_datetime  passenger_count  \\\n",
       "0         2  2023-01-01 00:32:10   2023-01-01 00:40:36              1.0   \n",
       "1         2  2023-01-01 00:55:08   2023-01-01 01:01:27              1.0   \n",
       "2         2  2023-01-01 00:25:04   2023-01-01 00:37:49              1.0   \n",
       "3         1  2023-01-01 00:03:48   2023-01-01 00:13:25              0.0   \n",
       "4         2  2023-01-01 00:10:29   2023-01-01 00:21:19              1.0   \n",
       "\n",
       "   trip_distance  RatecodeID store_and_fwd_flag  PULocationID  DOLocationID  \\\n",
       "0           0.97         1.0                  N           161           141   \n",
       "1           1.10         1.0                  N            43           237   \n",
       "2           2.51         1.0                  N            48           238   \n",
       "3           1.90         1.0                  N           138             7   \n",
       "4           1.43         1.0                  N           107            79   \n",
       "\n",
       "   payment_type  fare_amount  extra  mta_tax  tip_amount  tolls_amount  \\\n",
       "0             2          9.3   1.00      0.5        0.00           0.0   \n",
       "1             1          7.9   1.00      0.5        4.00           0.0   \n",
       "2             1         14.9   1.00      0.5       15.00           0.0   \n",
       "3             1         12.1   7.25      0.5        0.00           0.0   \n",
       "4             1         11.4   1.00      0.5        3.28           0.0   \n",
       "\n",
       "   improvement_surcharge  total_amount  congestion_surcharge  airport_fee  \n",
       "0                    1.0         14.30                   2.5         0.00  \n",
       "1                    1.0         16.90                   2.5         0.00  \n",
       "2                    1.0         34.90                   2.5         0.00  \n",
       "3                    1.0         20.85                   0.0         1.25  \n",
       "4                    1.0         19.68                   2.5         0.00  "
      ]
     },
     "execution_count": 195,
     "metadata": {},
     "output_type": "execute_result"
    }
   ],
   "source": [
    "trips.head()"
   ]
  },
  {
   "cell_type": "code",
   "execution_count": 196,
   "metadata": {},
   "outputs": [],
   "source": [
    "trips[\"pickup_day\"] = trips[\"tpep_pickup_datetime\"].apply(lambda x: x.day)\n",
    "trips[\"pickup_dow\"] = trips[\"tpep_pickup_datetime\"].apply(lambda x: x.day_name())\n",
    "trips[\"pickup_dow_num\"] = trips[\"tpep_pickup_datetime\"].apply(lambda x: x.day_of_week)"
   ]
  },
  {
   "cell_type": "code",
   "execution_count": 197,
   "metadata": {},
   "outputs": [],
   "source": [
    "taxi_zones.head()\n",
    "airport_list = [1, 132, 138]\n",
    "airport_zones = taxi_zones.query(\"LocationID in @airport_list\")"
   ]
  },
  {
   "cell_type": "code",
   "execution_count": 198,
   "metadata": {},
   "outputs": [],
   "source": [
    "# rows before 3066766\n",
    "trips_merged_pu = (\n",
    "    trips.merge(\n",
    "        taxi_zones,\n",
    "        left_on=[\"PULocationID\"],\n",
    "        right_on=[\"LocationID\"],\n",
    "        how=\"inner\")\n",
    ")"
   ]
  },
  {
   "cell_type": "code",
   "execution_count": 200,
   "metadata": {},
   "outputs": [
    {
     "data": {
      "text/html": [
       "<div>\n",
       "<style scoped>\n",
       "    .dataframe tbody tr th:only-of-type {\n",
       "        vertical-align: middle;\n",
       "    }\n",
       "\n",
       "    .dataframe tbody tr th {\n",
       "        vertical-align: top;\n",
       "    }\n",
       "\n",
       "    .dataframe thead th {\n",
       "        text-align: right;\n",
       "    }\n",
       "</style>\n",
       "<table border=\"1\" class=\"dataframe\">\n",
       "  <thead>\n",
       "    <tr style=\"text-align: right;\">\n",
       "      <th></th>\n",
       "      <th>VendorID</th>\n",
       "      <th>tpep_pickup_datetime</th>\n",
       "      <th>tpep_dropoff_datetime</th>\n",
       "      <th>passenger_count</th>\n",
       "      <th>trip_distance</th>\n",
       "      <th>RatecodeID</th>\n",
       "      <th>store_and_fwd_flag</th>\n",
       "      <th>PULocationID</th>\n",
       "      <th>DOLocationID</th>\n",
       "      <th>payment_type</th>\n",
       "      <th>...</th>\n",
       "      <th>total_amount</th>\n",
       "      <th>congestion_surcharge</th>\n",
       "      <th>airport_fee</th>\n",
       "      <th>pickup_day</th>\n",
       "      <th>pickup_dow</th>\n",
       "      <th>pickup_dow_num</th>\n",
       "      <th>LocationID</th>\n",
       "      <th>Borough</th>\n",
       "      <th>Zone</th>\n",
       "      <th>service_zone</th>\n",
       "    </tr>\n",
       "  </thead>\n",
       "  <tbody>\n",
       "    <tr>\n",
       "      <th>0</th>\n",
       "      <td>2</td>\n",
       "      <td>2023-01-01 00:32:10</td>\n",
       "      <td>2023-01-01 00:40:36</td>\n",
       "      <td>1.0</td>\n",
       "      <td>0.97</td>\n",
       "      <td>1.0</td>\n",
       "      <td>N</td>\n",
       "      <td>161</td>\n",
       "      <td>141</td>\n",
       "      <td>2</td>\n",
       "      <td>...</td>\n",
       "      <td>14.30</td>\n",
       "      <td>2.5</td>\n",
       "      <td>0.0</td>\n",
       "      <td>1</td>\n",
       "      <td>Sunday</td>\n",
       "      <td>6</td>\n",
       "      <td>161</td>\n",
       "      <td>Manhattan</td>\n",
       "      <td>Midtown Center</td>\n",
       "      <td>Yellow Zone</td>\n",
       "    </tr>\n",
       "    <tr>\n",
       "      <th>1</th>\n",
       "      <td>2</td>\n",
       "      <td>2023-01-01 00:50:34</td>\n",
       "      <td>2023-01-01 01:02:52</td>\n",
       "      <td>1.0</td>\n",
       "      <td>1.84</td>\n",
       "      <td>1.0</td>\n",
       "      <td>N</td>\n",
       "      <td>161</td>\n",
       "      <td>137</td>\n",
       "      <td>1</td>\n",
       "      <td>...</td>\n",
       "      <td>27.80</td>\n",
       "      <td>2.5</td>\n",
       "      <td>0.0</td>\n",
       "      <td>1</td>\n",
       "      <td>Sunday</td>\n",
       "      <td>6</td>\n",
       "      <td>161</td>\n",
       "      <td>Manhattan</td>\n",
       "      <td>Midtown Center</td>\n",
       "      <td>Yellow Zone</td>\n",
       "    </tr>\n",
       "    <tr>\n",
       "      <th>2</th>\n",
       "      <td>1</td>\n",
       "      <td>2023-01-01 00:52:06</td>\n",
       "      <td>2023-01-01 01:02:18</td>\n",
       "      <td>2.0</td>\n",
       "      <td>1.70</td>\n",
       "      <td>1.0</td>\n",
       "      <td>N</td>\n",
       "      <td>161</td>\n",
       "      <td>164</td>\n",
       "      <td>4</td>\n",
       "      <td>...</td>\n",
       "      <td>16.40</td>\n",
       "      <td>2.5</td>\n",
       "      <td>0.0</td>\n",
       "      <td>1</td>\n",
       "      <td>Sunday</td>\n",
       "      <td>6</td>\n",
       "      <td>161</td>\n",
       "      <td>Manhattan</td>\n",
       "      <td>Midtown Center</td>\n",
       "      <td>Yellow Zone</td>\n",
       "    </tr>\n",
       "    <tr>\n",
       "      <th>3</th>\n",
       "      <td>2</td>\n",
       "      <td>2023-01-01 00:19:12</td>\n",
       "      <td>2023-01-01 00:38:27</td>\n",
       "      <td>1.0</td>\n",
       "      <td>5.70</td>\n",
       "      <td>1.0</td>\n",
       "      <td>N</td>\n",
       "      <td>161</td>\n",
       "      <td>87</td>\n",
       "      <td>1</td>\n",
       "      <td>...</td>\n",
       "      <td>38.16</td>\n",
       "      <td>2.5</td>\n",
       "      <td>0.0</td>\n",
       "      <td>1</td>\n",
       "      <td>Sunday</td>\n",
       "      <td>6</td>\n",
       "      <td>161</td>\n",
       "      <td>Manhattan</td>\n",
       "      <td>Midtown Center</td>\n",
       "      <td>Yellow Zone</td>\n",
       "    </tr>\n",
       "    <tr>\n",
       "      <th>4</th>\n",
       "      <td>2</td>\n",
       "      <td>2023-01-01 00:18:08</td>\n",
       "      <td>2023-01-01 00:32:43</td>\n",
       "      <td>1.0</td>\n",
       "      <td>2.17</td>\n",
       "      <td>1.0</td>\n",
       "      <td>N</td>\n",
       "      <td>161</td>\n",
       "      <td>107</td>\n",
       "      <td>2</td>\n",
       "      <td>...</td>\n",
       "      <td>19.20</td>\n",
       "      <td>2.5</td>\n",
       "      <td>0.0</td>\n",
       "      <td>1</td>\n",
       "      <td>Sunday</td>\n",
       "      <td>6</td>\n",
       "      <td>161</td>\n",
       "      <td>Manhattan</td>\n",
       "      <td>Midtown Center</td>\n",
       "      <td>Yellow Zone</td>\n",
       "    </tr>\n",
       "  </tbody>\n",
       "</table>\n",
       "<p>5 rows × 26 columns</p>\n",
       "</div>"
      ],
      "text/plain": [
       "   VendorID tpep_pickup_datetime tpep_dropoff_datetime  passenger_count  \\\n",
       "0         2  2023-01-01 00:32:10   2023-01-01 00:40:36              1.0   \n",
       "1         2  2023-01-01 00:50:34   2023-01-01 01:02:52              1.0   \n",
       "2         1  2023-01-01 00:52:06   2023-01-01 01:02:18              2.0   \n",
       "3         2  2023-01-01 00:19:12   2023-01-01 00:38:27              1.0   \n",
       "4         2  2023-01-01 00:18:08   2023-01-01 00:32:43              1.0   \n",
       "\n",
       "   trip_distance  RatecodeID store_and_fwd_flag  PULocationID  DOLocationID  \\\n",
       "0           0.97         1.0                  N           161           141   \n",
       "1           1.84         1.0                  N           161           137   \n",
       "2           1.70         1.0                  N           161           164   \n",
       "3           5.70         1.0                  N           161            87   \n",
       "4           2.17         1.0                  N           161           107   \n",
       "\n",
       "   payment_type  ...  total_amount  congestion_surcharge  airport_fee  \\\n",
       "0             2  ...         14.30                   2.5          0.0   \n",
       "1             1  ...         27.80                   2.5          0.0   \n",
       "2             4  ...         16.40                   2.5          0.0   \n",
       "3             1  ...         38.16                   2.5          0.0   \n",
       "4             2  ...         19.20                   2.5          0.0   \n",
       "\n",
       "   pickup_day  pickup_dow  pickup_dow_num  LocationID    Borough  \\\n",
       "0           1      Sunday               6         161  Manhattan   \n",
       "1           1      Sunday               6         161  Manhattan   \n",
       "2           1      Sunday               6         161  Manhattan   \n",
       "3           1      Sunday               6         161  Manhattan   \n",
       "4           1      Sunday               6         161  Manhattan   \n",
       "\n",
       "             Zone  service_zone  \n",
       "0  Midtown Center   Yellow Zone  \n",
       "1  Midtown Center   Yellow Zone  \n",
       "2  Midtown Center   Yellow Zone  \n",
       "3  Midtown Center   Yellow Zone  \n",
       "4  Midtown Center   Yellow Zone  \n",
       "\n",
       "[5 rows x 26 columns]"
      ]
     },
     "execution_count": 200,
     "metadata": {},
     "output_type": "execute_result"
    }
   ],
   "source": [
    "trips_merged_pu.head()"
   ]
  },
  {
   "cell_type": "code",
   "execution_count": 201,
   "metadata": {},
   "outputs": [
    {
     "name": "stdout",
     "output_type": "stream",
     "text": [
      "<class 'pandas.core.frame.DataFrame'>\n",
      "Int64Index: 3066766 entries, 0 to 3066765\n",
      "Data columns (total 26 columns):\n",
      " #   Column                 Dtype         \n",
      "---  ------                 -----         \n",
      " 0   VendorID               int64         \n",
      " 1   tpep_pickup_datetime   datetime64[ns]\n",
      " 2   tpep_dropoff_datetime  datetime64[ns]\n",
      " 3   passenger_count        float64       \n",
      " 4   trip_distance          float64       \n",
      " 5   RatecodeID             float64       \n",
      " 6   store_and_fwd_flag     object        \n",
      " 7   PULocationID           int64         \n",
      " 8   DOLocationID           int64         \n",
      " 9   payment_type           int64         \n",
      " 10  fare_amount            float64       \n",
      " 11  extra                  float64       \n",
      " 12  mta_tax                float64       \n",
      " 13  tip_amount             float64       \n",
      " 14  tolls_amount           float64       \n",
      " 15  improvement_surcharge  float64       \n",
      " 16  total_amount           float64       \n",
      " 17  congestion_surcharge   float64       \n",
      " 18  airport_fee            float64       \n",
      " 19  pickup_day             int64         \n",
      " 20  pickup_dow             object        \n",
      " 21  pickup_dow_num         int64         \n",
      " 22  LocationID             int64         \n",
      " 23  Borough                object        \n",
      " 24  Zone                   object        \n",
      " 25  service_zone           object        \n",
      "dtypes: datetime64[ns](2), float64(12), int64(7), object(5)\n",
      "memory usage: 631.7+ MB\n"
     ]
    }
   ],
   "source": [
    "trips_merged_pu.info()"
   ]
  },
  {
   "cell_type": "code",
   "execution_count": 216,
   "metadata": {},
   "outputs": [],
   "source": [
    "# How many pickups happened at each airport?\n",
    "result_1 = trips_merged_pu.query(\"PULocationID in @airport_list\").groupby([\"Zone\"]).agg({\"Zone\": \"count\", \"passenger_count\": \"sum\"})\n",
    "result_1.columns = ['pickup_count', 'passenger_count']\n",
    "result_1.reset_index(inplace=True)"
   ]
  },
  {
   "cell_type": "code",
   "execution_count": 218,
   "metadata": {},
   "outputs": [
    {
     "data": {
      "text/html": [
       "<div>\n",
       "<style scoped>\n",
       "    .dataframe tbody tr th:only-of-type {\n",
       "        vertical-align: middle;\n",
       "    }\n",
       "\n",
       "    .dataframe tbody tr th {\n",
       "        vertical-align: top;\n",
       "    }\n",
       "\n",
       "    .dataframe thead th {\n",
       "        text-align: right;\n",
       "    }\n",
       "</style>\n",
       "<table border=\"1\" class=\"dataframe\">\n",
       "  <thead>\n",
       "    <tr style=\"text-align: right;\">\n",
       "      <th></th>\n",
       "      <th>Zone</th>\n",
       "      <th>pickup_count</th>\n",
       "      <th>passenger_count</th>\n",
       "    </tr>\n",
       "  </thead>\n",
       "  <tbody>\n",
       "    <tr>\n",
       "      <th>0</th>\n",
       "      <td>JFK Airport</td>\n",
       "      <td>160030</td>\n",
       "      <td>228407.0</td>\n",
       "    </tr>\n",
       "    <tr>\n",
       "      <th>1</th>\n",
       "      <td>LaGuardia Airport</td>\n",
       "      <td>89188</td>\n",
       "      <td>119617.0</td>\n",
       "    </tr>\n",
       "    <tr>\n",
       "      <th>2</th>\n",
       "      <td>Newark Airport</td>\n",
       "      <td>410</td>\n",
       "      <td>648.0</td>\n",
       "    </tr>\n",
       "  </tbody>\n",
       "</table>\n",
       "</div>"
      ],
      "text/plain": [
       "                Zone  pickup_count  passenger_count\n",
       "0        JFK Airport        160030         228407.0\n",
       "1  LaGuardia Airport         89188         119617.0\n",
       "2     Newark Airport           410            648.0"
      ]
     },
     "execution_count": 218,
     "metadata": {},
     "output_type": "execute_result"
    }
   ],
   "source": [
    "result_1"
   ]
  },
  {
   "cell_type": "code",
   "execution_count": 219,
   "metadata": {},
   "outputs": [
    {
     "data": {
      "text/plain": [
       "<AxesSubplot: xlabel='Zone', ylabel='pickup_count'>"
      ]
     },
     "execution_count": 219,
     "metadata": {},
     "output_type": "execute_result"
    },
    {
     "data": {
      "image/png": "[encoded data removed]",
      "text/plain": [
       "<Figure size 640x480 with 1 Axes>"
      ]
     },
     "metadata": {},
     "output_type": "display_data"
    }
   ],
   "source": [
    "sns.barplot(result_1, x=\"Zone\", y=\"pickup_count\")"
   ]
  },
  {
   "cell_type": "code",
   "execution_count": 220,
   "metadata": {},
   "outputs": [],
   "source": [
    "# rows before 3066766\n",
    "trips_merged_do = (\n",
    "    trips.merge(\n",
    "        taxi_zones.query(\"LocationID in @airport_list\"),\n",
    "        left_on=[\"DOLocationID\"],\n",
    "        right_on=[\"LocationID\"],\n",
    "        how=\"inner\")\n",
    ")"
   ]
  },
  {
   "cell_type": "code",
   "execution_count": 221,
   "metadata": {},
   "outputs": [
    {
     "data": {
      "text/plain": [
       "(72747, 26)"
      ]
     },
     "execution_count": 221,
     "metadata": {},
     "output_type": "execute_result"
    }
   ],
   "source": [
    "trips_merged_do.shape"
   ]
  },
  {
   "cell_type": "code",
   "execution_count": 223,
   "metadata": {},
   "outputs": [],
   "source": [
    "result_2 = trips_merged_do.groupby([\"Zone\"]).agg({\"Zone\": \"count\", \"passenger_count\": \"sum\"})\n",
    "result_2.columns = ['dropoff_count', 'passenger_count']\n",
    "result_2.reset_index(inplace=True)"
   ]
  },
  {
   "cell_type": "code",
   "execution_count": 224,
   "metadata": {},
   "outputs": [
    {
     "data": {
      "text/html": [
       "<div>\n",
       "<style scoped>\n",
       "    .dataframe tbody tr th:only-of-type {\n",
       "        vertical-align: middle;\n",
       "    }\n",
       "\n",
       "    .dataframe tbody tr th {\n",
       "        vertical-align: top;\n",
       "    }\n",
       "\n",
       "    .dataframe thead th {\n",
       "        text-align: right;\n",
       "    }\n",
       "</style>\n",
       "<table border=\"1\" class=\"dataframe\">\n",
       "  <thead>\n",
       "    <tr style=\"text-align: right;\">\n",
       "      <th></th>\n",
       "      <th>Zone</th>\n",
       "      <th>dropoff_count</th>\n",
       "      <th>passenger_count</th>\n",
       "    </tr>\n",
       "  </thead>\n",
       "  <tbody>\n",
       "    <tr>\n",
       "      <th>0</th>\n",
       "      <td>JFK Airport</td>\n",
       "      <td>33190</td>\n",
       "      <td>49805.0</td>\n",
       "    </tr>\n",
       "    <tr>\n",
       "      <th>1</th>\n",
       "      <td>LaGuardia Airport</td>\n",
       "      <td>32031</td>\n",
       "      <td>42552.0</td>\n",
       "    </tr>\n",
       "    <tr>\n",
       "      <th>2</th>\n",
       "      <td>Newark Airport</td>\n",
       "      <td>7526</td>\n",
       "      <td>12156.0</td>\n",
       "    </tr>\n",
       "  </tbody>\n",
       "</table>\n",
       "</div>"
      ],
      "text/plain": [
       "                Zone  dropoff_count  passenger_count\n",
       "0        JFK Airport          33190          49805.0\n",
       "1  LaGuardia Airport          32031          42552.0\n",
       "2     Newark Airport           7526          12156.0"
      ]
     },
     "execution_count": 224,
     "metadata": {},
     "output_type": "execute_result"
    }
   ],
   "source": [
    "result_2"
   ]
  },
  {
   "cell_type": "code",
   "execution_count": 225,
   "metadata": {},
   "outputs": [
    {
     "data": {
      "text/plain": [
       "<AxesSubplot: xlabel='Zone', ylabel='dropoff_count'>"
      ]
     },
     "execution_count": 225,
     "metadata": {},
     "output_type": "execute_result"
    },
    {
     "data": {
      "image/png": "[encoded data removed]",
      "text/plain": [
       "<Figure size 640x480 with 1 Axes>"
      ]
     },
     "metadata": {},
     "output_type": "display_data"
    }
   ],
   "source": [
    "sns.barplot(result_2, x=\"Zone\", y=\"dropoff_count\")"
   ]
  },
  {
   "cell_type": "code",
   "execution_count": 229,
   "metadata": {},
   "outputs": [],
   "source": [
    "# - What is the total amount of airport fees collected at each NYC airport? (JFK and LaGuardia)\n",
    "result_3 = trips.query(\"PULocationID in @airport_list\").groupby(\"PULocationID\").agg({\"airport_fee\": \"sum\", \"PULocationID\": \"count\"})\n",
    "result_3.columns = ['airport_fee_sum', 'pickup_count']\n",
    "result_3.reset_index(inplace=True)\n"
   ]
  },
  {
   "cell_type": "code",
   "execution_count": 235,
   "metadata": {},
   "outputs": [],
   "source": [
    "# dropping bad EWR airport row\n",
    "result_3.drop(0, axis=0, inplace=True)"
   ]
  },
  {
   "cell_type": "code",
   "execution_count": 239,
   "metadata": {},
   "outputs": [],
   "source": [
    "result_3 = result_3.merge(taxi_zones, left_on=\"PULocationID\", right_on=\"LocationID\", how=\"inner\")"
   ]
  },
  {
   "cell_type": "code",
   "execution_count": 231,
   "metadata": {},
   "outputs": [
    {
     "data": {
      "text/html": [
       "<div>\n",
       "<style scoped>\n",
       "    .dataframe tbody tr th:only-of-type {\n",
       "        vertical-align: middle;\n",
       "    }\n",
       "\n",
       "    .dataframe tbody tr th {\n",
       "        vertical-align: top;\n",
       "    }\n",
       "\n",
       "    .dataframe thead th {\n",
       "        text-align: right;\n",
       "    }\n",
       "</style>\n",
       "<table border=\"1\" class=\"dataframe\">\n",
       "  <thead>\n",
       "    <tr style=\"text-align: right;\">\n",
       "      <th></th>\n",
       "      <th>VendorID</th>\n",
       "      <th>tpep_pickup_datetime</th>\n",
       "      <th>tpep_dropoff_datetime</th>\n",
       "      <th>passenger_count</th>\n",
       "      <th>trip_distance</th>\n",
       "      <th>RatecodeID</th>\n",
       "      <th>store_and_fwd_flag</th>\n",
       "      <th>PULocationID</th>\n",
       "      <th>DOLocationID</th>\n",
       "      <th>payment_type</th>\n",
       "      <th>...</th>\n",
       "      <th>mta_tax</th>\n",
       "      <th>tip_amount</th>\n",
       "      <th>tolls_amount</th>\n",
       "      <th>improvement_surcharge</th>\n",
       "      <th>total_amount</th>\n",
       "      <th>congestion_surcharge</th>\n",
       "      <th>airport_fee</th>\n",
       "      <th>pickup_day</th>\n",
       "      <th>pickup_dow</th>\n",
       "      <th>pickup_dow_num</th>\n",
       "    </tr>\n",
       "  </thead>\n",
       "  <tbody>\n",
       "    <tr>\n",
       "      <th>261195</th>\n",
       "      <td>2</td>\n",
       "      <td>2023-01-04 14:49:22</td>\n",
       "      <td>2023-01-04 14:49:42</td>\n",
       "      <td>2.0</td>\n",
       "      <td>0.0</td>\n",
       "      <td>5.0</td>\n",
       "      <td>N</td>\n",
       "      <td>1</td>\n",
       "      <td>1</td>\n",
       "      <td>1</td>\n",
       "      <td>...</td>\n",
       "      <td>0.0</td>\n",
       "      <td>40.69</td>\n",
       "      <td>11.75</td>\n",
       "      <td>1.0</td>\n",
       "      <td>204.69</td>\n",
       "      <td>0.0</td>\n",
       "      <td>1.25</td>\n",
       "      <td>4</td>\n",
       "      <td>Wednesday</td>\n",
       "      <td>2</td>\n",
       "    </tr>\n",
       "    <tr>\n",
       "      <th>2559949</th>\n",
       "      <td>2</td>\n",
       "      <td>2023-01-27 15:15:51</td>\n",
       "      <td>2023-01-27 15:19:06</td>\n",
       "      <td>1.0</td>\n",
       "      <td>0.0</td>\n",
       "      <td>5.0</td>\n",
       "      <td>N</td>\n",
       "      <td>1</td>\n",
       "      <td>1</td>\n",
       "      <td>2</td>\n",
       "      <td>...</td>\n",
       "      <td>0.0</td>\n",
       "      <td>0.00</td>\n",
       "      <td>0.00</td>\n",
       "      <td>1.0</td>\n",
       "      <td>127.25</td>\n",
       "      <td>0.0</td>\n",
       "      <td>1.25</td>\n",
       "      <td>27</td>\n",
       "      <td>Friday</td>\n",
       "      <td>4</td>\n",
       "    </tr>\n",
       "  </tbody>\n",
       "</table>\n",
       "<p>2 rows × 22 columns</p>\n",
       "</div>"
      ],
      "text/plain": [
       "         VendorID tpep_pickup_datetime tpep_dropoff_datetime  passenger_count  \\\n",
       "261195          2  2023-01-04 14:49:22   2023-01-04 14:49:42              2.0   \n",
       "2559949         2  2023-01-27 15:15:51   2023-01-27 15:19:06              1.0   \n",
       "\n",
       "         trip_distance  RatecodeID store_and_fwd_flag  PULocationID  \\\n",
       "261195             0.0         5.0                  N             1   \n",
       "2559949            0.0         5.0                  N             1   \n",
       "\n",
       "         DOLocationID  payment_type  ...  mta_tax  tip_amount  tolls_amount  \\\n",
       "261195              1             1  ...      0.0       40.69         11.75   \n",
       "2559949             1             2  ...      0.0        0.00          0.00   \n",
       "\n",
       "         improvement_surcharge  total_amount  congestion_surcharge  \\\n",
       "261195                     1.0        204.69                   0.0   \n",
       "2559949                    1.0        127.25                   0.0   \n",
       "\n",
       "         airport_fee  pickup_day  pickup_dow  pickup_dow_num  \n",
       "261195          1.25           4   Wednesday               2  \n",
       "2559949         1.25          27      Friday               4  \n",
       "\n",
       "[2 rows x 22 columns]"
      ]
     },
     "execution_count": 231,
     "metadata": {},
     "output_type": "execute_result"
    }
   ],
   "source": [
    "trips.query(\"PULocationID == 1 and airport_fee > 0\")"
   ]
  },
  {
   "cell_type": "code",
   "execution_count": 240,
   "metadata": {},
   "outputs": [
    {
     "data": {
      "text/plain": [
       "<AxesSubplot: xlabel='Zone', ylabel='airport_fee_sum'>"
      ]
     },
     "execution_count": 240,
     "metadata": {},
     "output_type": "execute_result"
    },
    {
     "data": {
      "image/png": "[encoded data removed]",
      "text/plain": [
       "<Figure size 640x480 with 1 Axes>"
      ]
     },
     "metadata": {},
     "output_type": "display_data"
    }
   ],
   "source": [
    "sns.barplot(result_3, x=\"Zone\", y=\"airport_fee_sum\")"
   ]
  },
  {
   "cell_type": "code",
   "execution_count": 241,
   "metadata": {},
   "outputs": [
    {
     "name": "stderr",
     "output_type": "stream",
     "text": [
      "/var/folders/pf/fv0ly2656kjc4_pqx05d4qbw0000gn/T/ipykernel_51234/949310028.py:11: FutureWarning: The default value of numeric_only in DataFrameGroupBy.sum is deprecated. In a future version, numeric_only will default to False. Either specify numeric_only or select only columns which should be valid for the function.\n",
      "  borough_metrics = trips_merged_do_all.groupby(\"Borough\").sum().reset_index()\n"
     ]
    }
   ],
   "source": [
    "# what borough destination had the most tips?\n",
    "\n",
    "trips_merged_do_all = (\n",
    "    trips.merge(\n",
    "        taxi_zones,\n",
    "        left_on=[\"DOLocationID\"],\n",
    "        right_on=[\"LocationID\"],\n",
    "        how=\"left\")\n",
    ")\n",
    "\n",
    "borough_metrics = trips_merged_do_all.groupby(\"Borough\").sum().reset_index()\n",
    "#.agg({\"tip_amount\": [\"sum\", \"mean\"] , \"DOLocationID\": \"count\", \"trip_distance\": \"mean\"}).reset_index()"
   ]
  },
  {
   "cell_type": "code",
   "execution_count": 242,
   "metadata": {},
   "outputs": [
    {
     "data": {
      "text/html": [
       "<div>\n",
       "<style scoped>\n",
       "    .dataframe tbody tr th:only-of-type {\n",
       "        vertical-align: middle;\n",
       "    }\n",
       "\n",
       "    .dataframe tbody tr th {\n",
       "        vertical-align: top;\n",
       "    }\n",
       "\n",
       "    .dataframe thead th {\n",
       "        text-align: right;\n",
       "    }\n",
       "</style>\n",
       "<table border=\"1\" class=\"dataframe\">\n",
       "  <thead>\n",
       "    <tr style=\"text-align: right;\">\n",
       "      <th></th>\n",
       "      <th>Borough</th>\n",
       "      <th>VendorID</th>\n",
       "      <th>passenger_count</th>\n",
       "      <th>trip_distance</th>\n",
       "      <th>RatecodeID</th>\n",
       "      <th>PULocationID</th>\n",
       "      <th>DOLocationID</th>\n",
       "      <th>payment_type</th>\n",
       "      <th>fare_amount</th>\n",
       "      <th>extra</th>\n",
       "      <th>mta_tax</th>\n",
       "      <th>tip_amount</th>\n",
       "      <th>tolls_amount</th>\n",
       "      <th>improvement_surcharge</th>\n",
       "      <th>total_amount</th>\n",
       "      <th>congestion_surcharge</th>\n",
       "      <th>airport_fee</th>\n",
       "      <th>pickup_day</th>\n",
       "      <th>pickup_dow_num</th>\n",
       "      <th>LocationID</th>\n",
       "    </tr>\n",
       "  </thead>\n",
       "  <tbody>\n",
       "    <tr>\n",
       "      <th>0</th>\n",
       "      <td>Bronx</td>\n",
       "      <td>30442</td>\n",
       "      <td>22696.0</td>\n",
       "      <td>189224.49</td>\n",
       "      <td>217263.0</td>\n",
       "      <td>2739403</td>\n",
       "      <td>2988062</td>\n",
       "      <td>26904</td>\n",
       "      <td>784301.69</td>\n",
       "      <td>28165.75</td>\n",
       "      <td>8659.9</td>\n",
       "      <td>61818.26</td>\n",
       "      <td>49254.30</td>\n",
       "      <td>17524.9</td>\n",
       "      <td>967828.35</td>\n",
       "      <td>16192.5</td>\n",
       "      <td>6772.50</td>\n",
       "      <td>281227</td>\n",
       "      <td>53921</td>\n",
       "      <td>2988062</td>\n",
       "    </tr>\n",
       "    <tr>\n",
       "      <th>1</th>\n",
       "      <td>Brooklyn</td>\n",
       "      <td>206627</td>\n",
       "      <td>152627.0</td>\n",
       "      <td>1077471.05</td>\n",
       "      <td>491880.0</td>\n",
       "      <td>17258445</td>\n",
       "      <td>13535697</td>\n",
       "      <td>141500</td>\n",
       "      <td>4647685.73</td>\n",
       "      <td>203594.31</td>\n",
       "      <td>58033.7</td>\n",
       "      <td>704746.40</td>\n",
       "      <td>65756.02</td>\n",
       "      <td>116810.4</td>\n",
       "      <td>5956532.96</td>\n",
       "      <td>151100.0</td>\n",
       "      <td>50823.75</td>\n",
       "      <td>1911297</td>\n",
       "      <td>377589</td>\n",
       "      <td>13535697</td>\n",
       "    </tr>\n",
       "    <tr>\n",
       "      <th>2</th>\n",
       "      <td>EWR</td>\n",
       "      <td>13348</td>\n",
       "      <td>12156.0</td>\n",
       "      <td>134605.79</td>\n",
       "      <td>23351.0</td>\n",
       "      <td>1169895</td>\n",
       "      <td>7526</td>\n",
       "      <td>8956</td>\n",
       "      <td>698505.23</td>\n",
       "      <td>3071.25</td>\n",
       "      <td>162.6</td>\n",
       "      <td>108362.21</td>\n",
       "      <td>121615.20</td>\n",
       "      <td>7383.0</td>\n",
       "      <td>940527.64</td>\n",
       "      <td>635.0</td>\n",
       "      <td>641.25</td>\n",
       "      <td>110472</td>\n",
       "      <td>22800</td>\n",
       "      <td>7526</td>\n",
       "    </tr>\n",
       "    <tr>\n",
       "      <th>3</th>\n",
       "      <td>Manhattan</td>\n",
       "      <td>4713054</td>\n",
       "      <td>3628862.0</td>\n",
       "      <td>8693405.45</td>\n",
       "      <td>3119279.0</td>\n",
       "      <td>457133989</td>\n",
       "      <td>456931013</td>\n",
       "      <td>3212178</td>\n",
       "      <td>42658159.23</td>\n",
       "      <td>4064664.40</td>\n",
       "      <td>1341203.3</td>\n",
       "      <td>8382541.67</td>\n",
       "      <td>934627.96</td>\n",
       "      <td>2684539.8</td>\n",
       "      <td>65032485.21</td>\n",
       "      <td>6403765.0</td>\n",
       "      <td>186642.50</td>\n",
       "      <td>44917780</td>\n",
       "      <td>8171365</td>\n",
       "      <td>456931013</td>\n",
       "    </tr>\n",
       "    <tr>\n",
       "      <th>4</th>\n",
       "      <td>Queens</td>\n",
       "      <td>283519</td>\n",
       "      <td>216473.0</td>\n",
       "      <td>1423686.32</td>\n",
       "      <td>533462.0</td>\n",
       "      <td>24929558</td>\n",
       "      <td>21709185</td>\n",
       "      <td>228427</td>\n",
       "      <td>5980737.24</td>\n",
       "      <td>370911.89</td>\n",
       "      <td>75140.4</td>\n",
       "      <td>873584.81</td>\n",
       "      <td>338225.05</td>\n",
       "      <td>152747.0</td>\n",
       "      <td>8001143.49</td>\n",
       "      <td>194415.0</td>\n",
       "      <td>67597.50</td>\n",
       "      <td>2540383</td>\n",
       "      <td>483119</td>\n",
       "      <td>21709185</td>\n",
       "    </tr>\n",
       "  </tbody>\n",
       "</table>\n",
       "</div>"
      ],
      "text/plain": [
       "     Borough  VendorID  passenger_count  trip_distance  RatecodeID  \\\n",
       "0      Bronx     30442          22696.0      189224.49    217263.0   \n",
       "1   Brooklyn    206627         152627.0     1077471.05    491880.0   \n",
       "2        EWR     13348          12156.0      134605.79     23351.0   \n",
       "3  Manhattan   4713054        3628862.0     8693405.45   3119279.0   \n",
       "4     Queens    283519         216473.0     1423686.32    533462.0   \n",
       "\n",
       "   PULocationID  DOLocationID  payment_type  fare_amount       extra  \\\n",
       "0       2739403       2988062         26904    784301.69    28165.75   \n",
       "1      17258445      13535697        141500   4647685.73   203594.31   \n",
       "2       1169895          7526          8956    698505.23     3071.25   \n",
       "3     457133989     456931013       3212178  42658159.23  4064664.40   \n",
       "4      24929558      21709185        228427   5980737.24   370911.89   \n",
       "\n",
       "     mta_tax  tip_amount  tolls_amount  improvement_surcharge  total_amount  \\\n",
       "0     8659.9    61818.26      49254.30                17524.9     967828.35   \n",
       "1    58033.7   704746.40      65756.02               116810.4    5956532.96   \n",
       "2      162.6   108362.21     121615.20                 7383.0     940527.64   \n",
       "3  1341203.3  8382541.67     934627.96              2684539.8   65032485.21   \n",
       "4    75140.4   873584.81     338225.05               152747.0    8001143.49   \n",
       "\n",
       "   congestion_surcharge  airport_fee  pickup_day  pickup_dow_num  LocationID  \n",
       "0               16192.5      6772.50      281227           53921     2988062  \n",
       "1              151100.0     50823.75     1911297          377589    13535697  \n",
       "2                 635.0       641.25      110472           22800        7526  \n",
       "3             6403765.0    186642.50    44917780         8171365   456931013  \n",
       "4              194415.0     67597.50     2540383          483119    21709185  "
      ]
     },
     "execution_count": 242,
     "metadata": {},
     "output_type": "execute_result"
    }
   ],
   "source": [
    "borough_metrics.head()"
   ]
  },
  {
   "cell_type": "code",
   "execution_count": 245,
   "metadata": {},
   "outputs": [
    {
     "data": {
      "text/html": [
       "<div>\n",
       "<style scoped>\n",
       "    .dataframe tbody tr th:only-of-type {\n",
       "        vertical-align: middle;\n",
       "    }\n",
       "\n",
       "    .dataframe tbody tr th {\n",
       "        vertical-align: top;\n",
       "    }\n",
       "\n",
       "    .dataframe thead th {\n",
       "        text-align: right;\n",
       "    }\n",
       "</style>\n",
       "<table border=\"1\" class=\"dataframe\">\n",
       "  <thead>\n",
       "    <tr style=\"text-align: right;\">\n",
       "      <th></th>\n",
       "      <th>Borough</th>\n",
       "      <th>tip_amount</th>\n",
       "    </tr>\n",
       "  </thead>\n",
       "  <tbody>\n",
       "    <tr>\n",
       "      <th>0</th>\n",
       "      <td>Bronx</td>\n",
       "      <td>61818.26</td>\n",
       "    </tr>\n",
       "    <tr>\n",
       "      <th>1</th>\n",
       "      <td>Brooklyn</td>\n",
       "      <td>704746.40</td>\n",
       "    </tr>\n",
       "    <tr>\n",
       "      <th>2</th>\n",
       "      <td>EWR</td>\n",
       "      <td>108362.21</td>\n",
       "    </tr>\n",
       "    <tr>\n",
       "      <th>3</th>\n",
       "      <td>Manhattan</td>\n",
       "      <td>8382541.67</td>\n",
       "    </tr>\n",
       "    <tr>\n",
       "      <th>4</th>\n",
       "      <td>Queens</td>\n",
       "      <td>873584.81</td>\n",
       "    </tr>\n",
       "    <tr>\n",
       "      <th>5</th>\n",
       "      <td>Staten Island</td>\n",
       "      <td>5859.28</td>\n",
       "    </tr>\n",
       "    <tr>\n",
       "      <th>6</th>\n",
       "      <td>Unknown</td>\n",
       "      <td>191773.31</td>\n",
       "    </tr>\n",
       "  </tbody>\n",
       "</table>\n",
       "</div>"
      ],
      "text/plain": [
       "         Borough  tip_amount\n",
       "0          Bronx    61818.26\n",
       "1       Brooklyn   704746.40\n",
       "2            EWR   108362.21\n",
       "3      Manhattan  8382541.67\n",
       "4         Queens   873584.81\n",
       "5  Staten Island     5859.28\n",
       "6        Unknown   191773.31"
      ]
     },
     "execution_count": 245,
     "metadata": {},
     "output_type": "execute_result"
    }
   ],
   "source": [
    "borough_metrics[[\"Borough\", \"tip_amount\"]]"
   ]
  },
  {
   "cell_type": "code",
   "execution_count": 244,
   "metadata": {},
   "outputs": [
    {
     "data": {
      "text/plain": [
       "<AxesSubplot: xlabel='Borough', ylabel='tip_amount'>"
      ]
     },
     "execution_count": 244,
     "metadata": {},
     "output_type": "execute_result"
    },
    {
     "data": {
      "image/png": "[encoded data removed]",
      "text/plain": [
       "<Figure size 640x480 with 1 Axes>"
      ]
     },
     "metadata": {},
     "output_type": "display_data"
    }
   ],
   "source": [
    "sns.barplot(borough_metrics, x=\"Borough\",y=\"tip_amount\")"
   ]
  },
  {
   "cell_type": "code",
   "execution_count": null,
   "metadata": {},
   "outputs": [],
   "source": [
    "trips_merged_pu.head()"
   ]
  },
  {
   "cell_type": "code",
   "execution_count": null,
   "metadata": {},
   "outputs": [],
   "source": [
    "sns.boxplot(trips_merged_pu.query(\"tip_amount < 30 and tip_amount >= 0\"), x=\"Borough\", y=\"tip_amount\")"
   ]
  },
  {
   "cell_type": "code",
   "execution_count": null,
   "metadata": {},
   "outputs": [],
   "source": [
    "sns.histplot(trips_merged_pu.query(\"tip_amount < 30 and tip_amount > 0 and Borough == 'Bronx'\"), x=\"tip_amount\", binwidth=0.5)"
   ]
  },
  {
   "cell_type": "code",
   "execution_count": 249,
   "metadata": {},
   "outputs": [
    {
     "name": "stderr",
     "output_type": "stream",
     "text": [
      "/var/folders/pf/fv0ly2656kjc4_pqx05d4qbw0000gn/T/ipykernel_51234/1626238476.py:3: FutureWarning: The default value of numeric_only in DataFrameGroupBy.sum is deprecated. In a future version, numeric_only will default to False. Either specify numeric_only or select only columns which should be valid for the function.\n",
      "  trips_merged_pu.groupby(\"Zone\").sum()[\"passenger_count\"].sort_values(ascending=False)[0:10]).reset_index()\n"
     ]
    }
   ],
   "source": [
    "# - What were the top 10 pickup locations by number of passengers?\n",
    "result_5 = pd.DataFrame(\n",
    "    trips_merged_pu.groupby(\"Zone\").sum()[\"passenger_count\"].sort_values(ascending=False)[0:10]).reset_index()"
   ]
  },
  {
   "cell_type": "code",
   "execution_count": 254,
   "metadata": {},
   "outputs": [
    {
     "data": {
      "text/plain": [
       "(array([0, 1, 2, 3, 4, 5, 6, 7, 8, 9]),\n",
       " [Text(0, 0, 'JFK Airport'),\n",
       "  Text(1, 0, 'Upper East Side South'),\n",
       "  Text(2, 0, 'Midtown Center'),\n",
       "  Text(3, 0, 'Upper East Side North'),\n",
       "  Text(4, 0, 'Penn Station/Madison Sq West'),\n",
       "  Text(5, 0, 'Times Sq/Theatre District'),\n",
       "  Text(6, 0, 'Midtown East'),\n",
       "  Text(7, 0, 'Lincoln Square East'),\n",
       "  Text(8, 0, 'LaGuardia Airport'),\n",
       "  Text(9, 0, 'Upper West Side South')])"
      ]
     },
     "execution_count": 254,
     "metadata": {},
     "output_type": "execute_result"
    },
    {
     "data": {
      "image/png": "[encoded data removed]",
      "text/plain": [
       "<Figure size 640x480 with 1 Axes>"
      ]
     },
     "metadata": {},
     "output_type": "display_data"
    }
   ],
   "source": [
    "import matplotlib.pyplot as plt\n",
    "sns.barplot(result_5, x=\"Zone\", y=\"passenger_count\")\n",
    "plt.xticks(rotation=75)"
   ]
  },
  {
   "cell_type": "code",
   "execution_count": null,
   "metadata": {},
   "outputs": [],
   "source": [
    "\n"
   ]
  },
  {
   "cell_type": "code",
   "execution_count": null,
   "metadata": {},
   "outputs": [],
   "source": [
    "dow_metrics = trips_merged_pu.groupby([\"Borough\", \"pickup_dow\", \"pickup_dow_num\"]).sum()[[\"passenger_count\", \"fare_amount\"]].reset_index().sort_values(\"pickup_dow_num\")"
   ]
  },
  {
   "cell_type": "code",
   "execution_count": null,
   "metadata": {},
   "outputs": [],
   "source": [
    "dow_metrics"
   ]
  },
  {
   "cell_type": "code",
   "execution_count": null,
   "metadata": {},
   "outputs": [],
   "source": [
    "sns.barplot(dow_metrics, x=\"pickup_dow\", y=\"fare_amount\")"
   ]
  },
  {
   "cell_type": "code",
   "execution_count": null,
   "metadata": {},
   "outputs": [],
   "source": [
    "sns.histplot(trips_merged_do, x=\"passenger_count\", binwidth=1, hue=\"payment_type\")"
   ]
  },
  {
   "cell_type": "code",
   "execution_count": null,
   "metadata": {},
   "outputs": [],
   "source": [
    "sns.barplot(trip)"
   ]
  }
 ],
 "metadata": {
  "kernelspec": {
   "display_name": "qless_test",
   "language": "python",
   "name": "qless_test"
  },
  "language_info": {
   "codemirror_mode": {
    "name": "ipython",
    "version": 3
   },
   "file_extension": ".py",
   "mimetype": "text/x-python",
   "name": "python",
   "nbconvert_exporter": "python",
   "pygments_lexer": "ipython3",
   "version": "3.11.1"
  },
  "orig_nbformat": 4
 },
 "nbformat": 4,
 "nbformat_minor": 2
}
