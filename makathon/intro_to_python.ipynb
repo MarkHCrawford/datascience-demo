{
  "cells": [
    {
      "cell_type": "markdown",
      "source": [
        "# Intro to Python"
      ],
      "metadata": {}
    },
    {
      "cell_type": "code",
      "source": [
        "# This is a comment\n",
        "\n",
        "\"\"\" This is a long\n",
        "comment\"\"\""
      ],
      "outputs": [],
      "execution_count": null,
      "metadata": {
        "collapsed": false,
        "outputHidden": false,
        "inputHidden": false
      }
    },
    {
      "cell_type": "code",
      "source": [
        "# assignment is an equals sign\n",
        "my_variable = 4"
      ],
      "outputs": [],
      "execution_count": null,
      "metadata": {
        "collapsed": false,
        "outputHidden": false,
        "inputHidden": false
      }
    },
    {
      "cell_type": "code",
      "source": [
        "new_variable = my_variable"
      ],
      "outputs": [],
      "execution_count": null,
      "metadata": {
        "collapsed": false,
        "outputHidden": false,
        "inputHidden": false
      }
    },
    {
      "cell_type": "code",
      "source": [
        "print(new_variable)"
      ],
      "outputs": [],
      "execution_count": null,
      "metadata": {
        "collapsed": false,
        "outputHidden": false,
        "inputHidden": false
      }
    },
    {
      "cell_type": "code",
      "source": [
        "my_variable = 2"
      ],
      "outputs": [],
      "execution_count": null,
      "metadata": {
        "collapsed": false,
        "outputHidden": false,
        "inputHidden": false
      }
    },
    {
      "cell_type": "code",
      "source": [
        "# exercise: what happens here?\n",
        "print(new_variable)"
      ],
      "outputs": [],
      "execution_count": null,
      "metadata": {
        "collapsed": false,
        "outputHidden": false,
        "inputHidden": false
      }
    },
    {
      "cell_type": "code",
      "source": [
        "# printing stuff\n",
        "answer = 3 + 5\n",
        "print(answer)"
      ],
      "outputs": [],
      "execution_count": null,
      "metadata": {
        "collapsed": false,
        "outputHidden": false,
        "inputHidden": false
      }
    },
    {
      "cell_type": "code",
      "source": [
        "# using format method of strings\n",
        "print(\"{}\".format(answer))"
      ],
      "outputs": [],
      "execution_count": null,
      "metadata": {
        "collapsed": false,
        "outputHidden": false,
        "inputHidden": false
      }
    },
    {
      "cell_type": "markdown",
      "source": [
        "## Doing math in Python"
      ],
      "metadata": {}
    },
    {
      "cell_type": "code",
      "source": [
        "# Addition/Subtraction\n",
        "print(\"2 + 3 = {}\".format(2 + 3))\n",
        "print(\"2 - 3 = {}\".format(2 - 3))\n",
        "\n",
        "# Multiplication\n",
        "print(\"2 * 3 = {}\".format(2 * 3))\n",
        "\n",
        "# Exponents\n",
        "print(\"2 ** 3 = {}\".format(2 ** 3))\n",
        "\n",
        "# Division\n",
        "print(\"16 / 3 = {}\".format(16 / 3))\n",
        "\n",
        "# Integer Division\n",
        "print(\"16 // 3 = {}\".format(16 // 3))\n",
        "\n",
        "# Modulo (remainder)\n",
        "print(\"16 % 3 = {}\".format(16 % 3))\n",
        "\n",
        "# Round\n",
        "print(\"round(16/3) = {}\".format(round(16/3)))"
      ],
      "outputs": [],
      "execution_count": null,
      "metadata": {
        "collapsed": false,
        "outputHidden": false,
        "inputHidden": false
      }
    },
    {
      "cell_type": "markdown",
      "source": [
        "## Strings"
      ],
      "metadata": {}
    },
    {
      "cell_type": "code",
      "source": [
        "my_name = \"Sam Karasik\""
      ],
      "outputs": [],
      "execution_count": null,
      "metadata": {
        "collapsed": false,
        "outputHidden": false,
        "inputHidden": false
      }
    },
    {
      "cell_type": "code",
      "source": [
        "# you can access the characters in a string positionally\n",
        "my_name[2]"
      ],
      "outputs": [],
      "execution_count": null,
      "metadata": {
        "collapsed": false,
        "outputHidden": false,
        "inputHidden": false
      }
    },
    {
      "cell_type": "code",
      "source": [
        "# use [-1] index to get the last character\n",
        "my_name[-1]"
      ],
      "outputs": [],
      "execution_count": null,
      "metadata": {
        "collapsed": false,
        "outputHidden": false,
        "inputHidden": false
      }
    },
    {
      "cell_type": "code",
      "source": [
        "# you can use the split method to return a list of strings split on a character. This is useful for transforming data!\n",
        "my_name.split(\" \")"
      ],
      "outputs": [],
      "execution_count": null,
      "metadata": {
        "collapsed": false,
        "outputHidden": false,
        "inputHidden": false
      }
    },
    {
      "cell_type": "code",
      "source": [
        "# raw strings ignore special characters like \\n\n",
        "directory = \"Normal String: C:\\some\\name\"\n",
        "print(directory)\n",
        "\n",
        "directory = r\"Raw String: C:\\some\\name\"\n",
        "print(directory)"
      ],
      "outputs": [],
      "execution_count": null,
      "metadata": {
        "collapsed": false,
        "outputHidden": false,
        "inputHidden": false
      }
    },
    {
      "cell_type": "markdown",
      "source": [
        "## Compound Data Types: Lists and Dicts"
      ],
      "metadata": {}
    },
    {
      "cell_type": "code",
      "source": [
        "# you can put whatever you want in a list, but that's a bad idea\n",
        "my_list = [1, \"pineapple\", 3.4]"
      ],
      "outputs": [],
      "execution_count": null,
      "metadata": {
        "collapsed": false,
        "outputHidden": false,
        "inputHidden": false
      }
    },
    {
      "cell_type": "code",
      "source": [
        "# you can access items in a list by indexing\n",
        "my_list[1]"
      ],
      "outputs": [],
      "execution_count": null,
      "metadata": {
        "collapsed": false,
        "outputHidden": false,
        "inputHidden": false
      }
    },
    {
      "cell_type": "code",
      "source": [
        "# lists are NOT immutable - you can re-assign items\n",
        "my_list[1] = \"orange\""
      ],
      "outputs": [],
      "execution_count": null,
      "metadata": {
        "collapsed": false,
        "outputHidden": false,
        "inputHidden": false
      }
    },
    {
      "cell_type": "code",
      "source": [
        "my_list"
      ],
      "outputs": [],
      "execution_count": null,
      "metadata": {
        "collapsed": false,
        "outputHidden": false,
        "inputHidden": false
      }
    },
    {
      "cell_type": "code",
      "source": [
        "# you can add an item to a list with `.append()`\n",
        "my_list.append(99)\n",
        "print(my_list)"
      ],
      "outputs": [],
      "execution_count": null,
      "metadata": {
        "collapsed": false,
        "outputHidden": false,
        "inputHidden": false
      }
    },
    {
      "cell_type": "code",
      "source": [
        "# you can also concatenate two lists\n",
        "my_list + [5, 4, 6]"
      ],
      "outputs": [],
      "execution_count": null,
      "metadata": {
        "collapsed": false,
        "outputHidden": false,
        "inputHidden": false
      }
    },
    {
      "cell_type": "code",
      "source": [
        "len(my_list)"
      ],
      "outputs": [],
      "execution_count": null,
      "metadata": {
        "collapsed": false,
        "outputHidden": false,
        "inputHidden": false
      }
    },
    {
      "cell_type": "code",
      "source": [
        "# a dict is a key, value store\n",
        "my_dict = {\"bananas\": 3, \"apples\": 1, \"oranges\": 2}"
      ],
      "outputs": [],
      "execution_count": null,
      "metadata": {
        "collapsed": false,
        "outputHidden": false,
        "inputHidden": false
      }
    },
    {
      "cell_type": "code",
      "source": [
        "# you can access the values in a list using the indices\n",
        "my_dict[\"bananas\"]"
      ],
      "outputs": [],
      "execution_count": null,
      "metadata": {
        "collapsed": false,
        "outputHidden": false,
        "inputHidden": false
      }
    },
    {
      "cell_type": "code",
      "source": [
        "len(my_dict)"
      ],
      "outputs": [],
      "execution_count": null,
      "metadata": {
        "collapsed": false,
        "outputHidden": false,
        "inputHidden": false
      }
    },
    {
      "cell_type": "markdown",
      "source": [
        "## Control Flow"
      ],
      "metadata": {}
    },
    {
      "cell_type": "code",
      "source": [
        "# while loop\n",
        "counter = 0\n",
        "\n",
        "while counter < 10:\n",
        "  print(counter)\n",
        "  counter += 1"
      ],
      "outputs": [],
      "execution_count": null,
      "metadata": {
        "collapsed": false,
        "outputHidden": false,
        "inputHidden": false
      }
    },
    {
      "cell_type": "code",
      "source": [
        "# you can iterate over a compound data type in a for loop\n",
        "for item in my_list:\n",
        "  print(item)"
      ],
      "outputs": [],
      "execution_count": null,
      "metadata": {
        "collapsed": false,
        "outputHidden": false,
        "inputHidden": false
      }
    },
    {
      "cell_type": "code",
      "source": [
        "for num in range(10):\n",
        "  print(num)"
      ],
      "outputs": [],
      "execution_count": null,
      "metadata": {
        "collapsed": false,
        "outputHidden": false,
        "inputHidden": false
      }
    },
    {
      "cell_type": "markdown",
      "source": [
        "## Exercise: Write a while loop that will print the first 10 Fibonacci numbers (0, 1, 1, 2, 3, ...)"
      ],
      "metadata": {}
    },
    {
      "cell_type": "code",
      "source": [
        "# Fibonacci Example\n",
        "\n",
        "# multiple assignment\n",
        "a, b = 0, 1\n",
        "\n",
        "while a < 10:\n",
        "  print(a)\n",
        "  a, b = b, a + b"
      ],
      "outputs": [],
      "execution_count": null,
      "metadata": {
        "collapsed": false,
        "outputHidden": false,
        "inputHidden": false
      }
    },
    {
      "cell_type": "code",
      "source": [
        "fib = [0, 1]\n",
        "\n",
        "while len(fib) < 10:\n",
        "  next_fib = fib[-1] + fib[-2]\n",
        "  fib.append(next_fib)\n",
        "\n",
        "print(fib)"
      ],
      "outputs": [],
      "execution_count": null,
      "metadata": {
        "collapsed": false,
        "outputHidden": false,
        "inputHidden": false
      }
    },
    {
      "cell_type": "markdown",
      "source": [
        "## If Statements"
      ],
      "metadata": {}
    },
    {
      "cell_type": "code",
      "source": [
        "my_variable = 1\n",
        "\n",
        "if my_variable < 3:\n",
        "  print(\"{} is less than 3\".format(my_variable))"
      ],
      "outputs": [],
      "execution_count": null,
      "metadata": {
        "collapsed": false,
        "outputHidden": false,
        "inputHidden": false
      }
    },
    {
      "cell_type": "code",
      "source": [
        "if my_variable > 10:\n",
        "  print(\"{} is greater than 10\".format(my_variable))\n",
        "elif my_variable > 5:\n",
        "  print(\"{} is greater than 5 but no larger than 10\".format(my_variable))\n",
        "else:\n",
        "  print(\"{} is less than or equal to 5\".format(my_variable))"
      ],
      "outputs": [],
      "execution_count": null,
      "metadata": {
        "collapsed": false,
        "outputHidden": false,
        "inputHidden": false
      }
    },
    {
      "cell_type": "markdown",
      "source": [
        "## True and False"
      ],
      "metadata": {}
    },
    {
      "cell_type": "markdown",
      "source": [
        "False is False, and 0 is False, None is not True and conditions can be false."
      ],
      "metadata": {}
    },
    {
      "cell_type": "code",
      "source": [
        "print_the_thing = True\n",
        "\n",
        "if print_the_thing:\n",
        "  print(\"Hello World\")"
      ],
      "outputs": [],
      "execution_count": null,
      "metadata": {
        "collapsed": false,
        "outputHidden": false,
        "inputHidden": false
      }
    },
    {
      "cell_type": "code",
      "source": [
        "print_the_thing = 3\n",
        "\n",
        "if print_the_thing:\n",
        "  print(\"Hello World\")"
      ],
      "outputs": [],
      "execution_count": null,
      "metadata": {
        "collapsed": false,
        "outputHidden": false,
        "inputHidden": false
      }
    },
    {
      "cell_type": "code",
      "source": [
        "print_the_thing = 0\n",
        "\n",
        "if print_the_thing:\n",
        "  print(\"Hello World\")"
      ],
      "outputs": [],
      "execution_count": null,
      "metadata": {
        "collapsed": false,
        "outputHidden": false,
        "inputHidden": false
      }
    },
    {
      "cell_type": "code",
      "source": [
        "print_the_thing = None\n",
        "\n",
        "if print_the_thing:\n",
        "  print(\"Hello World\")"
      ],
      "outputs": [],
      "execution_count": null,
      "metadata": {
        "collapsed": false,
        "outputHidden": false,
        "inputHidden": false
      }
    },
    {
      "cell_type": "code",
      "source": [
        "print_the_thing = None\n",
        "\n",
        "if not print_the_thing:\n",
        "  print(\"Hello World\")"
      ],
      "outputs": [],
      "execution_count": null,
      "metadata": {
        "collapsed": false,
        "outputHidden": false,
        "inputHidden": false
      }
    },
    {
      "cell_type": "markdown",
      "source": [
        "## Exercise: print all prime numbers between 2 and 50"
      ],
      "metadata": {}
    },
    {
      "cell_type": "code",
      "source": [
        "for num in range(2, 50):\n",
        "  for prime in range(2, num):\n",
        "    if num % prime == 0:\n",
        "      break\n",
        "  else:\n",
        "    print(num, \" is prime\")"
      ],
      "outputs": [],
      "execution_count": null,
      "metadata": {
        "collapsed": false,
        "outputHidden": false,
        "inputHidden": false
      }
    },
    {
      "cell_type": "markdown",
      "source": [
        "## Classes"
      ],
      "metadata": {}
    },
    {
      "cell_type": "code",
      "source": [
        "class DollarSlice:\n",
        "  def __init__(self):\n",
        "    self.toppings = []\n",
        "  def add_topping(self, topping):\n",
        "    if isinstance(topping, str):\n",
        "      self.toppings.append(topping)\n",
        "    elif isinstance(topping, list):\n",
        "      self.toppings += topping\n",
        "  def price(self):\n",
        "    return 1 + len(self.toppings)"
      ],
      "outputs": [],
      "execution_count": null,
      "metadata": {
        "collapsed": false,
        "outputHidden": false,
        "inputHidden": false
      }
    },
    {
      "cell_type": "code",
      "source": [
        "my_slice = DollarSlice()"
      ],
      "outputs": [],
      "execution_count": null,
      "metadata": {
        "collapsed": false,
        "outputHidden": false,
        "inputHidden": false
      }
    },
    {
      "cell_type": "code",
      "source": [
        "my_slice.toppings"
      ],
      "outputs": [],
      "execution_count": null,
      "metadata": {
        "collapsed": false,
        "outputHidden": false,
        "inputHidden": false
      }
    },
    {
      "cell_type": "code",
      "source": [
        "my_slice.add_topping([\"pepperoni\"])"
      ],
      "outputs": [],
      "execution_count": null,
      "metadata": {
        "collapsed": false,
        "outputHidden": false,
        "inputHidden": false
      }
    },
    {
      "cell_type": "code",
      "source": [
        "my_slice.price()"
      ],
      "outputs": [],
      "execution_count": null,
      "metadata": {
        "collapsed": false,
        "outputHidden": false,
        "inputHidden": false
      }
    },
    {
      "cell_type": "code",
      "source": [
        "my_slice.price()"
      ],
      "outputs": [],
      "execution_count": null,
      "metadata": {
        "collapsed": false,
        "outputHidden": false,
        "inputHidden": false
      }
    },
    {
      "cell_type": "markdown",
      "source": [
        "## Exercise: add a 10% discount to the price if you order more than 3 toppings"
      ],
      "metadata": {}
    },
    {
      "cell_type": "markdown",
      "source": [
        "## List Comprehensions\n",
        "List comprehensions are basically a loop inside of a list. You can use this for small tasks like taking a list of objects and creating a list of their specific attributes."
      ],
      "metadata": {}
    },
    {
      "cell_type": "code",
      "source": [
        "# let's make 2 slices of pizza\n",
        "my_slice = DollarSlice()\n",
        "my_slice.add_topping(\"olives\")\n",
        "\n",
        "my_other_slice = DollarSlice()\n",
        "my_other_slice.add_topping(\"pineapple\")\n",
        "my_other_slice.add_topping([\"anchovies\", \"onions\"])\n",
        "\n",
        "# put the slices in a list\n",
        "slices = [my_slice, my_other_slice]"
      ],
      "outputs": [],
      "execution_count": null,
      "metadata": {
        "collapsed": false,
        "outputHidden": false,
        "inputHidden": false
      }
    },
    {
      "cell_type": "code",
      "source": [
        "# use a list comprehension to get a list of toppings\n",
        "for s in slices:\n",
        "  for t in s.toppings:\n",
        "    print(t)\n"
      ],
      "outputs": [],
      "execution_count": null,
      "metadata": {
        "collapsed": false,
        "outputHidden": false,
        "inputHidden": false
      }
    },
    {
      "cell_type": "code",
      "source": [
        "# use a list comprehension to get a list of toppings\n",
        "[t for t in s.toppings for s in slices]"
      ],
      "outputs": [],
      "execution_count": null,
      "metadata": {
        "collapsed": false,
        "outputHidden": false,
        "inputHidden": false
      }
    },
    {
      "cell_type": "markdown",
      "source": [
        "## Exercise: write a list comprehension that takes the first letter or each topping"
      ],
      "metadata": {}
    }
  ],
  "metadata": {
    "kernel_info": {
      "name": "python3"
    },
    "language_info": {
      "name": "python",
      "version": "3.7.0",
      "mimetype": "text/x-python",
      "codemirror_mode": {
        "name": "ipython",
        "version": 3
      },
      "pygments_lexer": "ipython3",
      "nbconvert_exporter": "python",
      "file_extension": ".py"
    },
    "kernelspec": {
      "name": "python3",
      "language": "python",
      "display_name": "Python 3"
    },
    "nteract": {
      "version": "0.14.3"
    }
  },
  "nbformat": 4,
  "nbformat_minor": 0
}