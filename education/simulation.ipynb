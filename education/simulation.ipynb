{
 "cells": [
  {
   "cell_type": "code",
   "execution_count": 1,
   "metadata": {},
   "outputs": [],
   "source": [
    "import numpy as np\n",
    "import pandas as pd\n",
    "from typing import List"
   ]
  },
  {
   "cell_type": "markdown",
   "metadata": {},
   "source": [
    "Data Sources:\n",
    "- https://bmccprodstroac.blob.core.windows.net/uploads/2023/05/Institutional-Research-Fact-Sheet-Fall-2022-01.pdf\n",
    "- https://bmccprodstroac.blob.core.windows.net/uploads/ported/iresearch/upload/IEReportCardWebJULY2018.pdf\n",
    "- https://nces.ed.gov/collegenavigator/?q=190521&s=all&id=190521\n",
    "- Tableau : https://public.tableau.com/app/profile/bmcc.oiea/viz/BMCCDataDashboards/Welcome"
   ]
  },
  {
   "cell_type": "code",
   "execution_count": null,
   "metadata": {},
   "outputs": [],
   "source": [
    "def simulate_student_profile(\n",
    "        freshman: float,\n",
    "        first_generation: float,\n",
    "        full_time: float, # probability,\n",
    "        cs_degree: float, # probability\n",
    "        pell_grant: float, # probability\n",
    "        employed: float, # probability\n",
    "        age_mean: float, # mean age\n",
    "        gpa_mean: float, # mean age\n",
    "        days_missed: float, # days of school missed\n",
    "        borough_p: List[float], # bx, bk, mn, qu, si, out [0.14, 0.21, 0.12, 0.13, 0.02, 0.38]\n",
    "        grade: str, # grade\n",
    "        n: int) -> pd.DataFrame:\n",
    "\n",
    "    df = pd.DataFrame()\n",
    "\n",
    "    # borough\n",
    "    boroughs = [\"Bronx\", \"Brooklyn\", \"Manhattan\", \"Queens\", \"Staten Island\", \"Outside NYC\"]\n",
    "    \n",
    "    # check input probabilities add up to 1\n",
    "    assert sum(borough_p) == 1\n",
    "    df[\"borough\"] = np.random.choice(boroughs, n, p=borough_p)\n",
    "\n",
    "    # age\n",
    "    df[\"age\"] = np.random.normal(age_mean, 4, n)\n",
    "\n",
    "    # gpa\n",
    "    df[\"gpa\"] = np.random.normal(gpa_mean, 0.5, n)\n",
    "\n",
    "    # days missed\n",
    "    df[\"days_missed\"] = np.random.normal(days_missed, 4, n)\n",
    "\n",
    "    # major (degree type?)\n",
    "    majors = [\"Computer Science\", \"Computer Information Systems\"]\n",
    "    major_p = [cs_degree, 1 - cs_degree]\n",
    "    df[\"major\"] = np.random.choice(majors, n, p=major_p)\n",
    "\n",
    "    # full-time\n",
    "    df[\"full_time\"] = np.random.binomial(1, full_time, n)\n",
    "    \n",
    "    # freshman\n",
    "    df[\"freshman\"] = np.random.binomial(1, freshman, n)\n",
    "\n",
    "    # first-generation college\n",
    "    df[\"first_generation\"] = np.random.binomial(1, first_generation, n)\n",
    "\n",
    "    # employed\n",
    "    df[\"employed\"] = np.random.binomial(1, employed, n)\n",
    "\n",
    "    # pell grant recipient\n",
    "    df[\"pell_grant\"] = np.random.binomial(1, pell_grant, n)\n",
    "\n",
    "    df[\"grade\"] = grade\n",
    "\n",
    "    return df\n"
   ]
  },
  {
   "cell_type": "code",
   "execution_count": 12,
   "metadata": {},
   "outputs": [],
   "source": [
    "\"\"\"\n",
    "Overall stats:\n",
    "17k students\n",
    "38.6% DWFI rate in gateway courses\n",
    "55% pell\n",
    "29% TAP\n",
    "22% first time freshmen\n",
    "70% FT\n",
    "63% freshmen, 37% sophomore\n",
    "\"\"\"\n",
    "\n",
    "students = 17000\n",
    "\n",
    "passing_grade = simulate_student_profile(\n",
    "    freshman=0.7,\n",
    "    first_generation=0.62,\n",
    "    full_time=0.7,\n",
    "    cs_degree=0.3,\n",
    "    pell_grant=0.5,\n",
    "    employed=0.75,\n",
    "    age_mean=23,\n",
    "    gpa_mean=3.0,\n",
    "    days_missed=6,\n",
    "    borough_p=[0.14, 0.21, 0.12, 0.13, 0.02, 0.38],\n",
    "    grade=\"P\",\n",
    "    n=round(students * 0.62))\n",
    "\n",
    "dwfi_grade = simulate_student_profile(\n",
    "    freshman=0.65,\n",
    "    first_generation=0.67,\n",
    "    full_time=0.6,\n",
    "    cs_degree=0.2,\n",
    "    pell_grant=0.53,\n",
    "    employed=0.81,\n",
    "    age_mean=22,\n",
    "    gpa_mean=2.8,\n",
    "    days_missed=14,\n",
    "    borough_p=[0.12, 0.10, 0.10, 0.11, 0.02, 0.55],\n",
    "    grade=\"DWFI\",\n",
    "    n=round(students * 0.38))\n",
    "\n",
    "all_students = pd.concat([passing_grade, dwfi_grade])"
   ]
  },
  {
   "cell_type": "code",
   "execution_count": 13,
   "metadata": {},
   "outputs": [],
   "source": [
    "all_students.to_csv(\"students_sim.csv\", index=False)"
   ]
  }
 ],
 "metadata": {
  "kernelspec": {
   "display_name": "qless_test",
   "language": "python",
   "name": "qless_test"
  },
  "language_info": {
   "codemirror_mode": {
    "name": "ipython",
    "version": 3
   },
   "file_extension": ".py",
   "mimetype": "text/x-python",
   "name": "python",
   "nbconvert_exporter": "python",
   "pygments_lexer": "ipython3",
   "version": "3.11.1"
  }
 },
 "nbformat": 4,
 "nbformat_minor": 2
}
