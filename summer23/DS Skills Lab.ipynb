{
 "cells": [
  {
   "attachments": {},
   "cell_type": "markdown",
   "metadata": {},
   "source": [
    "# Data Skills Lab"
   ]
  },
  {
   "attachments": {},
   "cell_type": "markdown",
   "metadata": {},
   "source": [
    "Materials:\n",
    "\n",
    "- Download the January 2023 Yellow Taxi Data PARQUET file https://www.nyc.gov/site/tlc/about/tlc-trip-record-data.page\n",
    "- Download the Taxi Zone Lookup table CSV file on the same page\n",
    "- Read the Yellow Taxi data dictionary https://www.nyc.gov/assets/tlc/downloads/pdf/data_dictionary_trip_records_yellow.pdf\n",
    "\n",
    "*Assignment:*\n",
    "\n",
    "Use pandas to read the 2 data files into your Python notebook. Answer the following questions and upload your results here:\n",
    "\n",
    "Tips: there are 3 airports, JFK, LaGuardia, and Newark (EWR)\n",
    "\n",
    "1. Answer the following questions:\n",
    "\n",
    "- How many pickups happened at each airport?\n",
    "- How many dropoffs happened at each airport?\n",
    "- What is the total amount of airport fees collected at each NYC airport? (JFK and LaGuardia)\n",
    "- What borough destination had the most tips?\n",
    "- What were the top 10 pickup locations by number of passengers?\n",
    "\n",
    "2. Create a data visualization of your choice"
   ]
  },
  {
   "cell_type": "code",
   "execution_count": null,
   "metadata": {},
   "outputs": [],
   "source": [
    "import pandas as pd\n",
    "import seaborn as sns"
   ]
  },
  {
   "cell_type": "code",
   "execution_count": null,
   "metadata": {},
   "outputs": [],
   "source": [
    "trips = pd.read_parquet(path=\"/Users/sam/Documents/projects/ds course/yellow_tripdata_2023-01.parquet\")\n",
    "taxi_zones = pd.read_csv(\"/Users/sam/Documents/projects/ds course/taxi_zone_lookup.csv\")"
   ]
  }
 ],
 "metadata": {
  "kernelspec": {
   "display_name": "qless_test",
   "language": "python",
   "name": "qless_test"
  },
  "language_info": {
   "codemirror_mode": {
    "name": "ipython",
    "version": 3
   },
   "file_extension": ".py",
   "mimetype": "text/x-python",
   "name": "python",
   "nbconvert_exporter": "python",
   "pygments_lexer": "ipython3",
   "version": "3.11.1"
  },
  "orig_nbformat": 4
 },
 "nbformat": 4,
 "nbformat_minor": 2
}
